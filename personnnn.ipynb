{
 "cells": [
  {
   "cell_type": "code",
   "execution_count": 17,
   "metadata": {},
   "outputs": [
    {
     "name": "stdout",
     "output_type": "stream",
     "text": [
      "Dr. Riza Villanueva 45 092769587063 Batangas Rizal Avenue\n",
      "b 2 2 b\n",
      "a is performing a check up on b\n"
     ]
    }
   ],
   "source": [
    "#person\n",
    "class Person:\n",
    "    def __init__(self,name,age,contact,address):\n",
    "        self.name = name \n",
    "        self.age =  age \n",
    "        self.contact = contact\n",
    "        self.address = address\n",
    "\n",
    "    def printname (self):\n",
    "        print(self.name,self.age, self.contact, self.address)\n",
    "\n",
    "class Employee (Person):\n",
    "    def __init__(self,name,age,contact,address):\n",
    "        super().__init__(name,age,contact,address)\n",
    "\n",
    "    def printname (self):\n",
    "        print(self.name, self.age, self.contact, self.address)\n",
    "\n",
    "class Doctor(Employee):\n",
    "    def __init__(self,name,age,contact,address):\n",
    "        super().__init__(name,age,contact,address)\n",
    "\n",
    "    def Checkup (self):\n",
    "        print(f\"{self.name} is performing a check up on {Patientname}\")\n",
    "\n",
    "#class Pharmacist(Employee):\n",
    "    #def __init__(self,name,age,contact,address):\n",
    "        #super().__init__(name,age,contact,address)\n",
    "\n",
    "    #def Checkup (self):\n",
    "        #print(f\"{self.name} is performing a check up on {Patientname}\")S\n",
    "\n",
    "\n",
    "employee = Person (\"Dr. Riza Villanueva\", 45, \"092769587063\", \"Batangas Rizal Avenue\")\n",
    "employee.printname()\n",
    "\n",
    "class Patient (Person):\n",
    "    def __init__(self,name,age,contact,address):\n",
    "        super().__init__(name,age,contact,address)\n",
    "\n",
    "    def printname (self):\n",
    "        print(self.name, self.age, self.contact, self.address)\n",
    "\n",
    "Patientname = input(\"Enter your name: \")\n",
    "Patientage = input(\"Enter your age: \")\n",
    "Patientcontact = input(\"Enter your contact: \")\n",
    "Patientaddress = input(\"Enter your address: \")\n",
    "\n",
    "kiara = Patient(Patientname,Patientage,Patientcontact,Patientaddress)\n",
    "kiara.printname()\n",
    "#employee = Person (\"Riza\", \"Villanueva\", 45, \"092769587063\", \"Batangas Rizal Avenue\")\n",
    "#employee.printname()\n",
    "\n",
    "doktor = Doctor(\"a\", 1, 1, \"a\")\n",
    "doktor.Checkup()\n",
    "\n",
    "\n",
    "    "
   ]
  },
  {
   "cell_type": "code",
   "execution_count": null,
   "metadata": {},
   "outputs": [],
   "source": [
    " #Medication\n",
    "  \n"
   ]
  }
 ],
 "metadata": {
  "kernelspec": {
   "display_name": "Python 3.10.7 64-bit",
   "language": "python",
   "name": "python3"
  },
  "language_info": {
   "codemirror_mode": {
    "name": "ipython",
    "version": 3
   },
   "file_extension": ".py",
   "mimetype": "text/x-python",
   "name": "python",
   "nbconvert_exporter": "python",
   "pygments_lexer": "ipython3",
   "version": "3.10.7"
  },
  "orig_nbformat": 4,
  "vscode": {
   "interpreter": {
    "hash": "6bac460c4234234fa46094bead58440b0fc36dc7c284c3a5be98b9417e485cef"
   }
  }
 },
 "nbformat": 4,
 "nbformat_minor": 2
}
